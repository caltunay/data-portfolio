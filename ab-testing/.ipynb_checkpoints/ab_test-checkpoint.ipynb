{
  "metadata": {
    "kernelspec": {
      "language": "python",
      "display_name": "Python 3",
      "name": "python3"
    },
    "language_info": {
      "pygments_lexer": "ipython3",
      "nbconvert_exporter": "python",
      "version": "3.6.4",
      "file_extension": ".py",
      "codemirror_mode": {
        "name": "ipython",
        "version": 3
      },
      "name": "python",
      "mimetype": "text/x-python"
    },
    "colab": {
      "name": "A/B-testing new version of a site",
      "provenance": []
    }
  },
  "nbformat_minor": 0,
  "nbformat": 4,
  "cells": [
    {
      "source": [
        "# IMPORTANT: RUN THIS CELL IN ORDER TO IMPORT YOUR KAGGLE DATA SOURCES,\n",
        "# THEN FEEL FREE TO DELETE THIS CELL.\n",
        "# NOTE: THIS NOTEBOOK ENVIRONMENT DIFFERS FROM KAGGLE'S PYTHON\n",
        "# ENVIRONMENT SO THERE MAY BE MISSING LIBRARIES USED BY YOUR\n",
        "# NOTEBOOK.\n",
        "import kagglehub\n",
        "zhangluyuan_ab_testing_path = kagglehub.dataset_download('zhangluyuan/ab-testing')\n",
        "\n",
        "print('Data source import complete.')\n"
      ],
      "metadata": {
        "id": "iRN-NGodiBij"
      },
      "cell_type": "code",
      "outputs": [],
      "execution_count": null
    },
    {
      "cell_type": "markdown",
      "source": [
        "# **Imports**\n",
        "\n",
        "Before we start, I would like to say *Thank you* to the author of [this](https://github.com/renatofillinich/ab_test_guide_in_python/blob/master/AB%20testing%20with%20Python.ipynb) notebook!"
      ],
      "metadata": {
        "id": "Fnblol-GiBin"
      }
    },
    {
      "cell_type": "code",
      "source": [
        "import numpy as np\n",
        "import pandas as pd\n",
        "import scipy.stats as stats\n",
        "import statsmodels.stats.api as sms\n",
        "import matplotlib as mpl\n",
        "import matplotlib.pyplot as plt\n",
        "import seaborn as sns\n",
        "from math import ceil\n",
        "\n",
        "import warnings\n",
        "warnings.filterwarnings('ignore')\n",
        "\n",
        "%matplotlib inline\n",
        "\n",
        "sns.set_theme(style=\"whitegrid\", palette=\"muted\")\n",
        "plt.rc('patch', edgecolor='black')\n",
        "sns.set_context(\"notebook\", font_scale=1.3, rc={\"lines.linewidth\": 1.5})"
      ],
      "metadata": {
        "_uuid": "8f2839f25d086af736a60e9eeb907d3b93b6e0e5",
        "_cell_guid": "b1076dfc-b9ad-4769-8c92-a6c4dae69d19",
        "execution": {
          "iopub.status.busy": "2022-02-13T13:10:21.191887Z",
          "iopub.execute_input": "2022-02-13T13:10:21.192155Z",
          "iopub.status.idle": "2022-02-13T13:10:21.203618Z",
          "shell.execute_reply.started": "2022-02-13T13:10:21.192126Z",
          "shell.execute_reply": "2022-02-13T13:10:21.202777Z"
        },
        "trusted": true,
        "id": "fQ7-hafOiBio"
      },
      "execution_count": null,
      "outputs": []
    },
    {
      "cell_type": "markdown",
      "source": [
        "# **Downloading and exploring the data**"
      ],
      "metadata": {
        "id": "A3l_E7QGiBip"
      }
    },
    {
      "cell_type": "code",
      "source": [
        "df = pd.read_csv('../input/ab-testing/ab_data.csv')\n",
        "\n",
        "df.sample(10)"
      ],
      "metadata": {
        "execution": {
          "iopub.status.busy": "2022-02-13T13:10:21.20515Z",
          "iopub.execute_input": "2022-02-13T13:10:21.205365Z",
          "iopub.status.idle": "2022-02-13T13:10:21.649907Z",
          "shell.execute_reply.started": "2022-02-13T13:10:21.205336Z",
          "shell.execute_reply": "2022-02-13T13:10:21.648991Z"
        },
        "trusted": true,
        "id": "N5qmkyH4iBip"
      },
      "execution_count": null,
      "outputs": []
    },
    {
      "cell_type": "code",
      "source": [
        "df.shape"
      ],
      "metadata": {
        "execution": {
          "iopub.status.busy": "2022-02-13T13:10:21.651437Z",
          "iopub.execute_input": "2022-02-13T13:10:21.651627Z",
          "iopub.status.idle": "2022-02-13T13:10:21.657567Z",
          "shell.execute_reply.started": "2022-02-13T13:10:21.651602Z",
          "shell.execute_reply": "2022-02-13T13:10:21.656607Z"
        },
        "trusted": true,
        "id": "sm0tfQEyiBiq"
      },
      "execution_count": null,
      "outputs": []
    },
    {
      "cell_type": "code",
      "source": [
        "df.nunique()"
      ],
      "metadata": {
        "execution": {
          "iopub.status.busy": "2022-02-13T13:10:21.659926Z",
          "iopub.execute_input": "2022-02-13T13:10:21.660336Z",
          "iopub.status.idle": "2022-02-13T13:10:21.906299Z",
          "shell.execute_reply.started": "2022-02-13T13:10:21.660297Z",
          "shell.execute_reply": "2022-02-13T13:10:21.905057Z"
        },
        "trusted": true,
        "id": "o-RcZxfeiBiq"
      },
      "execution_count": null,
      "outputs": []
    },
    {
      "cell_type": "code",
      "source": [
        "df.isna().sum()"
      ],
      "metadata": {
        "execution": {
          "iopub.status.busy": "2022-02-13T13:10:21.907485Z",
          "iopub.execute_input": "2022-02-13T13:10:21.907747Z",
          "iopub.status.idle": "2022-02-13T13:10:21.955484Z",
          "shell.execute_reply.started": "2022-02-13T13:10:21.907712Z",
          "shell.execute_reply": "2022-02-13T13:10:21.955034Z"
        },
        "trusted": true,
        "id": "hD8r6MpIiBir"
      },
      "execution_count": null,
      "outputs": []
    },
    {
      "cell_type": "code",
      "source": [
        "df.info()"
      ],
      "metadata": {
        "execution": {
          "iopub.status.busy": "2022-02-13T13:10:21.956223Z",
          "iopub.execute_input": "2022-02-13T13:10:21.956861Z",
          "iopub.status.idle": "2022-02-13T13:10:22.012534Z",
          "shell.execute_reply.started": "2022-02-13T13:10:21.956833Z",
          "shell.execute_reply": "2022-02-13T13:10:22.012026Z"
        },
        "trusted": true,
        "id": "yzGlY0FriBir"
      },
      "execution_count": null,
      "outputs": []
    },
    {
      "cell_type": "code",
      "source": [
        "df.columns.tolist()"
      ],
      "metadata": {
        "execution": {
          "iopub.status.busy": "2022-02-13T13:10:22.013215Z",
          "iopub.execute_input": "2022-02-13T13:10:22.013922Z",
          "iopub.status.idle": "2022-02-13T13:10:22.020905Z",
          "shell.execute_reply.started": "2022-02-13T13:10:22.013897Z",
          "shell.execute_reply": "2022-02-13T13:10:22.020432Z"
        },
        "trusted": true,
        "id": "fsfpe4CSiBis"
      },
      "execution_count": null,
      "outputs": []
    },
    {
      "cell_type": "markdown",
      "source": [
        "We see, that there are 5 columns:\n",
        "* '**user_id**' contains user ids\n",
        "* '**timestamp**' is about when a session was\n",
        "* '**group**' contains 2 variables: control and treatment\n",
        "* '**landing_page**' is about what version of a site a user saw\n",
        "* '**converted**' says us about user's behavior: if a user made a purchase (1) or not (0)"
      ],
      "metadata": {
        "id": "_RQTm-f0iBis"
      }
    },
    {
      "cell_type": "code",
      "source": [
        "pd.crosstab(df['group'], df['landing_page'])"
      ],
      "metadata": {
        "execution": {
          "iopub.status.busy": "2022-02-13T13:10:22.022113Z",
          "iopub.execute_input": "2022-02-13T13:10:22.022868Z",
          "iopub.status.idle": "2022-02-13T13:10:22.096659Z",
          "shell.execute_reply.started": "2022-02-13T13:10:22.02283Z",
          "shell.execute_reply": "2022-02-13T13:10:22.095964Z"
        },
        "trusted": true,
        "id": "WeAmvNE8iBis"
      },
      "execution_count": null,
      "outputs": []
    },
    {
      "cell_type": "markdown",
      "source": [
        "# **Power analysis**"
      ],
      "metadata": {
        "id": "6gN8KKGCiBit"
      }
    },
    {
      "cell_type": "markdown",
      "source": [
        "* To provide an analysis of an A/B-test, **let assume, that the conversion (number of purchases/number of visits) in our company was 12%. We would like to increase this number to 14%.** Therefore, we created A/B-test to ensure that a new version of a site will certainly increase the conversion.\n",
        "\n",
        "* To decide what number of people we need to prove/reject the hypothesis, we have to conduct a power analysis."
      ],
      "metadata": {
        "id": "T6xPjg5jiBit"
      }
    },
    {
      "cell_type": "code",
      "source": [
        "effect_size = sms.proportion_effectsize(0.12, 0.14)    # Calculating effect size based on our expected rates\n",
        "\n",
        "required_n = sms.NormalIndPower().solve_power(\n",
        "    effect_size,\n",
        "    power=0.9,  #power of a test (defualt is 0.8)\n",
        "    alpha=0.05, #p-value\n",
        "    ratio=1\n",
        "    )                                                  # Calculating sample size needed\n",
        "\n",
        "required_n = ceil(required_n)                          # Rounding up to next whole number\n",
        "\n",
        "print(required_n)"
      ],
      "metadata": {
        "execution": {
          "iopub.status.busy": "2022-02-13T13:10:22.097883Z",
          "iopub.execute_input": "2022-02-13T13:10:22.098127Z",
          "iopub.status.idle": "2022-02-13T13:10:22.114272Z",
          "shell.execute_reply.started": "2022-02-13T13:10:22.098076Z",
          "shell.execute_reply": "2022-02-13T13:10:22.113673Z"
        },
        "trusted": true,
        "id": "zw5yETHiiBit"
      },
      "execution_count": null,
      "outputs": []
    },
    {
      "cell_type": "markdown",
      "source": [
        "Therefore, we need **5134 users in control** and **5134 users in treatment** group."
      ],
      "metadata": {
        "id": "qmc9vRX6iBit"
      }
    },
    {
      "cell_type": "markdown",
      "source": [
        "# **Choosing users for each group**"
      ],
      "metadata": {
        "id": "z3X0gp69iBit"
      }
    },
    {
      "cell_type": "code",
      "source": [
        "df[['user_id', 'timestamp']].nunique()"
      ],
      "metadata": {
        "execution": {
          "iopub.status.busy": "2022-02-13T13:10:22.116511Z",
          "iopub.execute_input": "2022-02-13T13:10:22.116709Z",
          "iopub.status.idle": "2022-02-13T13:10:22.258638Z",
          "shell.execute_reply.started": "2022-02-13T13:10:22.116687Z",
          "shell.execute_reply": "2022-02-13T13:10:22.257816Z"
        },
        "trusted": true,
        "id": "WABSOrjjiBit"
      },
      "execution_count": null,
      "outputs": []
    },
    {
      "cell_type": "code",
      "source": [
        "df.user_id.value_counts()"
      ],
      "metadata": {
        "execution": {
          "iopub.status.busy": "2022-02-13T13:10:22.259506Z",
          "iopub.execute_input": "2022-02-13T13:10:22.25968Z",
          "iopub.status.idle": "2022-02-13T13:10:22.285907Z",
          "shell.execute_reply.started": "2022-02-13T13:10:22.259659Z",
          "shell.execute_reply": "2022-02-13T13:10:22.285485Z"
        },
        "trusted": true,
        "id": "J9AhZnNpiBit"
      },
      "execution_count": null,
      "outputs": []
    },
    {
      "cell_type": "markdown",
      "source": [
        "Some of the users occur in the dataset more than once. As we have 294478 rows and we need only 10268 of them, let's simply drop the doubles."
      ],
      "metadata": {
        "id": "Qcpim6_viBit"
      }
    },
    {
      "cell_type": "code",
      "source": [
        "session_counts = df.user_id.value_counts()\n",
        "double_users = session_counts[session_counts>1].index\n",
        "\n",
        "double_users"
      ],
      "metadata": {
        "execution": {
          "iopub.status.busy": "2022-02-13T13:10:22.286744Z",
          "iopub.execute_input": "2022-02-13T13:10:22.287019Z",
          "iopub.status.idle": "2022-02-13T13:10:22.312697Z",
          "shell.execute_reply.started": "2022-02-13T13:10:22.286996Z",
          "shell.execute_reply": "2022-02-13T13:10:22.311879Z"
        },
        "trusted": true,
        "id": "e2RHr2mFiBit"
      },
      "execution_count": null,
      "outputs": []
    },
    {
      "cell_type": "code",
      "source": [
        "df['user_id'].isin(double_users).value_counts()"
      ],
      "metadata": {
        "execution": {
          "iopub.status.busy": "2022-02-13T13:10:22.31386Z",
          "iopub.execute_input": "2022-02-13T13:10:22.314125Z",
          "iopub.status.idle": "2022-02-13T13:10:22.325952Z",
          "shell.execute_reply.started": "2022-02-13T13:10:22.314079Z",
          "shell.execute_reply": "2022-02-13T13:10:22.32523Z"
        },
        "trusted": true,
        "id": "5-k5wLfoiBit"
      },
      "execution_count": null,
      "outputs": []
    },
    {
      "cell_type": "code",
      "source": [
        "df = df[~df['user_id'].isin(double_users)]\n",
        "df.shape"
      ],
      "metadata": {
        "execution": {
          "iopub.status.busy": "2022-02-13T13:10:22.327068Z",
          "iopub.execute_input": "2022-02-13T13:10:22.327312Z",
          "iopub.status.idle": "2022-02-13T13:10:22.357346Z",
          "shell.execute_reply.started": "2022-02-13T13:10:22.327291Z",
          "shell.execute_reply": "2022-02-13T13:10:22.356741Z"
        },
        "trusted": true,
        "id": "M6Ua_gXNiBit"
      },
      "execution_count": null,
      "outputs": []
    },
    {
      "cell_type": "code",
      "source": [
        "control_group = df.query('group == \"control\"').sample(required_n)\n",
        "treatment_group = df.query('group == \"treatment\"').sample(required_n)"
      ],
      "metadata": {
        "execution": {
          "iopub.status.busy": "2022-02-13T13:10:22.358127Z",
          "iopub.execute_input": "2022-02-13T13:10:22.358701Z",
          "iopub.status.idle": "2022-02-13T13:10:22.414659Z",
          "shell.execute_reply.started": "2022-02-13T13:10:22.358678Z",
          "shell.execute_reply": "2022-02-13T13:10:22.413856Z"
        },
        "trusted": true,
        "id": "jiWA3aT8iBiu"
      },
      "execution_count": null,
      "outputs": []
    },
    {
      "cell_type": "code",
      "source": [
        "control_group.head()"
      ],
      "metadata": {
        "execution": {
          "iopub.status.busy": "2022-02-13T13:10:22.415381Z",
          "iopub.execute_input": "2022-02-13T13:10:22.415527Z",
          "iopub.status.idle": "2022-02-13T13:10:22.424743Z",
          "shell.execute_reply.started": "2022-02-13T13:10:22.415507Z",
          "shell.execute_reply": "2022-02-13T13:10:22.423796Z"
        },
        "trusted": true,
        "id": "W_klCmHciBiu"
      },
      "execution_count": null,
      "outputs": []
    },
    {
      "cell_type": "code",
      "source": [
        "treatment_group.head()"
      ],
      "metadata": {
        "execution": {
          "iopub.status.busy": "2022-02-13T13:10:22.425458Z",
          "iopub.execute_input": "2022-02-13T13:10:22.425604Z",
          "iopub.status.idle": "2022-02-13T13:10:22.442246Z",
          "shell.execute_reply.started": "2022-02-13T13:10:22.425584Z",
          "shell.execute_reply": "2022-02-13T13:10:22.441622Z"
        },
        "trusted": true,
        "id": "gAQxPNhMiBiu"
      },
      "execution_count": null,
      "outputs": []
    },
    {
      "cell_type": "code",
      "source": [
        "ab_test = pd.concat([control_group, treatment_group], axis=0)\n",
        "ab_test.reset_index(inplace=True, drop=True)"
      ],
      "metadata": {
        "execution": {
          "iopub.status.busy": "2022-02-13T13:10:22.443379Z",
          "iopub.execute_input": "2022-02-13T13:10:22.443948Z",
          "iopub.status.idle": "2022-02-13T13:10:22.457301Z",
          "shell.execute_reply.started": "2022-02-13T13:10:22.443917Z",
          "shell.execute_reply": "2022-02-13T13:10:22.456503Z"
        },
        "trusted": true,
        "id": "rvAVHts7iBiu"
      },
      "execution_count": null,
      "outputs": []
    },
    {
      "cell_type": "code",
      "source": [
        "ab_test.head()"
      ],
      "metadata": {
        "execution": {
          "iopub.status.busy": "2022-02-13T13:10:22.45838Z",
          "iopub.execute_input": "2022-02-13T13:10:22.458834Z",
          "iopub.status.idle": "2022-02-13T13:10:22.470114Z",
          "shell.execute_reply.started": "2022-02-13T13:10:22.458776Z",
          "shell.execute_reply": "2022-02-13T13:10:22.469395Z"
        },
        "trusted": true,
        "id": "pJJYIRLaiBiu"
      },
      "execution_count": null,
      "outputs": []
    },
    {
      "cell_type": "code",
      "source": [
        "ab_test.info()"
      ],
      "metadata": {
        "execution": {
          "iopub.status.busy": "2022-02-13T13:10:22.471061Z",
          "iopub.execute_input": "2022-02-13T13:10:22.471693Z",
          "iopub.status.idle": "2022-02-13T13:10:22.484297Z",
          "shell.execute_reply.started": "2022-02-13T13:10:22.471663Z",
          "shell.execute_reply": "2022-02-13T13:10:22.483624Z"
        },
        "trusted": true,
        "id": "vO8iH0SGiBiu"
      },
      "execution_count": null,
      "outputs": []
    },
    {
      "cell_type": "code",
      "source": [
        "ab_test.group.value_counts()"
      ],
      "metadata": {
        "execution": {
          "iopub.status.busy": "2022-02-13T13:10:22.485484Z",
          "iopub.execute_input": "2022-02-13T13:10:22.485837Z",
          "iopub.status.idle": "2022-02-13T13:10:22.492859Z",
          "shell.execute_reply.started": "2022-02-13T13:10:22.485807Z",
          "shell.execute_reply": "2022-02-13T13:10:22.492144Z"
        },
        "trusted": true,
        "id": "hYKQ1GJ2iBiu"
      },
      "execution_count": null,
      "outputs": []
    },
    {
      "cell_type": "code",
      "source": [
        "conversion_rates = ab_test.groupby('group')['converted']\n",
        "\n",
        "std_p = lambda x: np.std(x, ddof=1)              # Std. deviation of the proportion\n",
        "se_p = lambda x: stats.sem(x, ddof=1)            # Std. error of the proportion (std / sqrt(n))\n",
        "\n",
        "conversion_rates = conversion_rates.agg([np.mean, std_p, se_p])\n",
        "conversion_rates.columns = ['conversion_rate', 'std_deviation', 'std_error']\n",
        "\n",
        "\n",
        "conversion_rates.style.format('{:.3f}')"
      ],
      "metadata": {
        "execution": {
          "iopub.status.busy": "2022-02-13T13:10:22.49367Z",
          "iopub.execute_input": "2022-02-13T13:10:22.49426Z",
          "iopub.status.idle": "2022-02-13T13:10:22.509821Z",
          "shell.execute_reply.started": "2022-02-13T13:10:22.49423Z",
          "shell.execute_reply": "2022-02-13T13:10:22.508964Z"
        },
        "trusted": true,
        "id": "vRLM7TEYiBiu"
      },
      "execution_count": null,
      "outputs": []
    },
    {
      "cell_type": "markdown",
      "source": [
        "The control group shows us **12.1%** conversion rate and the treatment group **12.4%** conversion rate."
      ],
      "metadata": {
        "id": "7FAQGyhjiBiv"
      }
    },
    {
      "cell_type": "code",
      "source": [
        "sns.barplot(x=ab_test['group'], y=ab_test['converted'], ci=False)\n",
        "\n",
        "plt.ylim(0, 0.15)\n",
        "plt.title('Conversion rate by group', pad=20)\n",
        "plt.xlabel('Group', labelpad=15)\n",
        "plt.ylabel('Converted (proportion)', labelpad=15);"
      ],
      "metadata": {
        "execution": {
          "iopub.status.busy": "2022-02-13T13:10:22.510758Z",
          "iopub.execute_input": "2022-02-13T13:10:22.510921Z",
          "iopub.status.idle": "2022-02-13T13:10:22.834238Z",
          "shell.execute_reply.started": "2022-02-13T13:10:22.5109Z",
          "shell.execute_reply": "2022-02-13T13:10:22.833546Z"
        },
        "trusted": true,
        "id": "fDkpAa1wiBiv"
      },
      "execution_count": null,
      "outputs": []
    },
    {
      "cell_type": "markdown",
      "source": [
        "So, we see a light improvement. Let's decide whether this difference is **statistically significant**."
      ],
      "metadata": {
        "id": "nszXOLZeiBiv"
      }
    },
    {
      "cell_type": "markdown",
      "source": [
        "# **Z-test and confidence intervals**"
      ],
      "metadata": {
        "id": "eie7kYHliBiv"
      }
    },
    {
      "cell_type": "code",
      "source": [
        "from statsmodels.stats.proportion import proportions_ztest, proportion_confint"
      ],
      "metadata": {
        "execution": {
          "iopub.status.busy": "2022-02-13T13:10:22.835483Z",
          "iopub.execute_input": "2022-02-13T13:10:22.835696Z",
          "iopub.status.idle": "2022-02-13T13:10:22.840322Z",
          "shell.execute_reply.started": "2022-02-13T13:10:22.835667Z",
          "shell.execute_reply": "2022-02-13T13:10:22.839481Z"
        },
        "trusted": true,
        "id": "F3lmq9x7iBiv"
      },
      "execution_count": null,
      "outputs": []
    },
    {
      "cell_type": "code",
      "source": [
        "control_conversion = ab_test.query('group == \"control\"')['converted']\n",
        "treatment_conversion = ab_test.query('group == \"treatment\"')['converted']"
      ],
      "metadata": {
        "execution": {
          "iopub.status.busy": "2022-02-13T13:10:22.841303Z",
          "iopub.execute_input": "2022-02-13T13:10:22.841443Z",
          "iopub.status.idle": "2022-02-13T13:10:22.861935Z",
          "shell.execute_reply.started": "2022-02-13T13:10:22.841424Z",
          "shell.execute_reply": "2022-02-13T13:10:22.86102Z"
        },
        "trusted": true,
        "id": "WGqC_gvjiBiv"
      },
      "execution_count": null,
      "outputs": []
    },
    {
      "cell_type": "code",
      "source": [
        "nobs = [control_conversion.count(), treatment_conversion.count()]\n",
        "successes = [control_conversion.sum(), treatment_conversion.sum()]\n",
        "\n",
        "z_stat, pval = proportions_ztest(successes, nobs=nobs)\n",
        "(lower_con, lower_treat), (upper_con, upper_treat) = proportion_confint(successes, nobs=nobs, alpha=0.05)\n",
        "\n",
        "print(f'z statistic: {z_stat:.2f}')\n",
        "print(f'p-value: {pval:.3f}')\n",
        "print(f'95% Confidence interval for control group: [{lower_con:.3f}, {upper_con:.3f}]')\n",
        "print(f'95% Confidence interval for treatment group: [{lower_treat:.3f}, {upper_treat:.3f}]')"
      ],
      "metadata": {
        "execution": {
          "iopub.status.busy": "2022-02-13T13:10:22.862977Z",
          "iopub.execute_input": "2022-02-13T13:10:22.863684Z",
          "iopub.status.idle": "2022-02-13T13:10:22.873329Z",
          "shell.execute_reply.started": "2022-02-13T13:10:22.863646Z",
          "shell.execute_reply": "2022-02-13T13:10:22.872341Z"
        },
        "trusted": true,
        "id": "brkv4roBiBiv"
      },
      "execution_count": null,
      "outputs": []
    },
    {
      "cell_type": "markdown",
      "source": [
        "Despite the fact, that from the first sight the conversation rate of the treatment group seemed to be slightly higher, **p-value>0.05 --> we cannot accept the alternative hypothesis**. Besides, the confident intervals include our baseline value of 12% conversion rate.\n",
        "\n",
        "Therefore, this **new version of the site cannot increase conversion significantly**.\n",
        "With the results of the A/B-test we came to conclusion, that it makes no sense for the company to introduce a new version of the site."
      ],
      "metadata": {
        "id": "OVQ6uIBPiBiv"
      }
    }
  ]
}